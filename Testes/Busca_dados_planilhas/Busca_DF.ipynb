{
 "cells": [
  {
   "attachments": {},
   "cell_type": "markdown",
   "metadata": {},
   "source": [
    "# Primeiro Passo: Importar Bibliotecas\n",
    "+ Soup\n",
    "+ Pandas\n",
    "+ requests\n",
    "\n",
    "Scrap de site de Meteorologia\n"
   ]
  },
  {
   "cell_type": "code",
   "execution_count": 3,
   "metadata": {},
   "outputs": [],
   "source": [
    "import pandas as pd\n",
    "import bs4\n",
    "from bs4 import BeautifulSoup\n",
    "import requests"
   ]
  },
  {
   "attachments": {},
   "cell_type": "markdown",
   "metadata": {},
   "source": [
    "# Pandas"
   ]
  },
  {
   "cell_type": "code",
   "execution_count": null,
   "metadata": {},
   "outputs": [],
   "source": [
    "#modelo de Dicionario\n",
    "'''Clima_tempo = {'Dia' :['Atual','1°','2°','3°','4°','5°','6°','7°','8°','9°','10°'],\n",
    "            'Data' :[Dias_a.text,Dias_a1.text,Dias_a2.text,Dias_a3.text,Dias_a4.text,Dias_a5.text,Dias_a6.text,Dias_a7.text,Dias_a8.text,Dias_a9.text,Dias_a10.text],\n",
    "            'Temperatura Maxima' :[temperatura_max.text,tmax1.text,tmax2.text,tmax3.text,tmax4.text,tmax5.text,tmax6.text,tmax7.text,tmax8.text,tmax9.text,tmax10.text],\n",
    "            'Temperatura Minima' :[tmin.text,tmin1.text,tmin2.text,tmin3.text,tmin4.text,tmin5.text,tmin6.text,tmin7.text,tmin8.text,tmin9.text,tmin10.text],\n",
    "            'Velocidade do Vento' :[v_vento.text,v_vento1.text,v_vento2.text,v_vento3.text,v_vento4.text,v_vento5.text,v_vento6.text,v_vento7.text,v_vento8.text,v_vento9.text,v_vento10.text],\n",
    "            'Chance de Chuva' :[c_chuva.text,c_chuva1.text,c_chuva2.text,c_chuva3.text,c_chuva4.text,c_chuva5.text,c_chuva6.text,c_chuva7.text,c_chuva8.text,c_chuva9.text,c_chuva10.text],\n",
    "    \n",
    "}\n",
    "clima_df = pd.DataFrame(Clima_tempo)\n",
    "display(clima_df)  #Mostrando dados no DataFrame\n",
    "clima_df['Chance de Chuva'] = clima_df['Chance de Chuva'].str.replace('Rain', '').str.strip()\n",
    "display(clima_df)'''"
   ]
  },
  {
   "attachments": {},
   "cell_type": "markdown",
   "metadata": {},
   "source": [
    "# Salvar em EXCEL"
   ]
  },
  {
   "cell_type": "code",
   "execution_count": 23,
   "metadata": {},
   "outputs": [],
   "source": [
    "\n",
    "with pd.ExcelWriter(\"Relatório.xlsx\", mode=\"w\", engine=\"openpyxl\") as writer:\n",
    "    clima_df.to_excel(writer)  "
   ]
  }
 ],
 "metadata": {
  "kernelspec": {
   "display_name": "Python 3.10.6 64-bit",
   "language": "python",
   "name": "python3"
  },
  "language_info": {
   "codemirror_mode": {
    "name": "ipython",
    "version": 3
   },
   "file_extension": ".py",
   "mimetype": "text/x-python",
   "name": "python",
   "nbconvert_exporter": "python",
   "pygments_lexer": "ipython3",
   "version": "3.10.6"
  },
  "orig_nbformat": 4,
  "vscode": {
   "interpreter": {
    "hash": "8fee86138af1eb0db027abd7ae9811a7a68978550fae5e6e8a2fd892a05f89b8"
   }
  }
 },
 "nbformat": 4,
 "nbformat_minor": 2
}
