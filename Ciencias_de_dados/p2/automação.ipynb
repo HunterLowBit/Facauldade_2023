{
 "cells": [
  {
   "attachments": {},
   "cell_type": "markdown",
   "metadata": {},
   "source": [
    "### Instalar No VSCODE as extensões \"Jupyter\" e \"Python\" para rodar tudo"
   ]
  },
  {
   "cell_type": "code",
   "execution_count": 1,
   "metadata": {},
   "outputs": [
    {
     "name": "stdout",
     "output_type": "stream",
     "text": [
      "Requirement already satisfied: pip in c:\\program files\\windowsapps\\pythonsoftwarefoundation.python.3.9_3.9.3568.0_x64__qbz5n2kfra8p0\\lib\\site-packages (22.0.4)Note: you may need to restart the kernel to use updated packages.\n",
      "\n",
      "Collecting pip\n",
      "  Using cached pip-23.1.2-py3-none-any.whl (2.1 MB)\n",
      "Installing collected packages: pip\n",
      "Successfully installed pip-23.1.2\n"
     ]
    },
    {
     "name": "stderr",
     "output_type": "stream",
     "text": [
      "WARNING: You are using pip version 22.0.4; however, version 23.1.2 is available.\n",
      "You should consider upgrading via the 'C:\\Users\\Robso\\AppData\\Local\\Microsoft\\WindowsApps\\PythonSoftwareFoundation.Python.3.9_qbz5n2kfra8p0\\python.exe -m pip install --upgrade pip' command.\n"
     ]
    }
   ],
   "source": [
    "pip install --upgrade pip"
   ]
  },
  {
   "attachments": {},
   "cell_type": "markdown",
   "metadata": {},
   "source": [
    "Instalação das bibliotecas"
   ]
  },
  {
   "cell_type": "code",
   "execution_count": 2,
   "metadata": {},
   "outputs": [
    {
     "name": "stdout",
     "output_type": "stream",
     "text": [
      "Collecting bs4\n",
      "  Using cached bs4-0.0.1.tar.gz (1.1 kB)\n",
      "  Installing build dependencies: started\n",
      "  Installing build dependencies: finished with status 'done'\n",
      "  Getting requirements to build wheel: started\n",
      "  Getting requirements to build wheel: finished with status 'done'\n",
      "  Preparing metadata (pyproject.toml): started\n",
      "  Preparing metadata (pyproject.toml): finished with status 'done'\n",
      "Collecting beautifulsoup4 (from bs4)\n",
      "  Using cached beautifulsoup4-4.12.2-py3-none-any.whl (142 kB)\n",
      "Collecting soupsieve>1.2 (from beautifulsoup4->bs4)\n",
      "  Using cached soupsieve-2.4.1-py3-none-any.whl (36 kB)\n",
      "Building wheels for collected packages: bs4\n",
      "  Building wheel for bs4 (pyproject.toml): started\n",
      "  Building wheel for bs4 (pyproject.toml): finished with status 'done'\n",
      "  Created wheel for bs4: filename=bs4-0.0.1-py3-none-any.whl size=1266 sha256=1f8ab214b70d2a3007032756c122416bc8b9097dec2c035ff052ec725ab1ce48\n",
      "  Stored in directory: c:\\users\\robso\\appdata\\local\\pip\\cache\\wheels\\73\\2b\\cb\\099980278a0c9a3e57ff1a89875ec07bfa0b6fcbebb9a8cad3\n",
      "Successfully built bs4\n",
      "Installing collected packages: soupsieve, beautifulsoup4, bs4\n",
      "Successfully installed beautifulsoup4-4.12.2 bs4-0.0.1 soupsieve-2.4.1\n",
      "Note: you may need to restart the kernel to use updated packages.\n"
     ]
    }
   ],
   "source": [
    "pip install bs4"
   ]
  },
  {
   "cell_type": "code",
   "execution_count": 3,
   "metadata": {},
   "outputs": [
    {
     "name": "stdout",
     "output_type": "stream",
     "text": [
      "Collecting requestsNote: you may need to restart the kernel to use updated packages.\n",
      "\n",
      "  Using cached requests-2.31.0-py3-none-any.whl (62 kB)\n",
      "Collecting charset-normalizer<4,>=2 (from requests)\n",
      "  Downloading charset_normalizer-3.1.0-cp39-cp39-win_amd64.whl (97 kB)\n",
      "                                              0.0/97.1 kB ? eta -:--:--\n",
      "     ---------------------------------------- 97.1/97.1 kB 5.8 MB/s eta 0:00:00\n",
      "Collecting idna<4,>=2.5 (from requests)\n",
      "  Using cached idna-3.4-py3-none-any.whl (61 kB)\n",
      "Collecting urllib3<3,>=1.21.1 (from requests)\n",
      "  Using cached urllib3-2.0.3-py3-none-any.whl (123 kB)\n",
      "Collecting certifi>=2017.4.17 (from requests)\n",
      "  Using cached certifi-2023.5.7-py3-none-any.whl (156 kB)\n",
      "Installing collected packages: urllib3, idna, charset-normalizer, certifi, requests\n",
      "Successfully installed certifi-2023.5.7 charset-normalizer-3.1.0 idna-3.4 requests-2.31.0 urllib3-2.0.3\n"
     ]
    }
   ],
   "source": [
    "pip install requests"
   ]
  },
  {
   "cell_type": "code",
   "execution_count": 4,
   "metadata": {},
   "outputs": [
    {
     "name": "stdout",
     "output_type": "stream",
     "text": [
      "Collecting openpyxl\n",
      "  Using cached openpyxl-3.1.2-py2.py3-none-any.whl (249 kB)\n",
      "Collecting et-xmlfile (from openpyxl)\n",
      "  Using cached et_xmlfile-1.1.0-py3-none-any.whl (4.7 kB)\n",
      "Installing collected packages: et-xmlfile, openpyxl\n",
      "Successfully installed et-xmlfile-1.1.0 openpyxl-3.1.2\n",
      "Note: you may need to restart the kernel to use updated packages.\n"
     ]
    }
   ],
   "source": [
    "pip install openpyxl"
   ]
  },
  {
   "cell_type": "code",
   "execution_count": 5,
   "metadata": {},
   "outputs": [
    {
     "name": "stdout",
     "output_type": "stream",
     "text": [
      "Collecting pandas\n",
      "  Downloading pandas-2.0.2-cp39-cp39-win_amd64.whl (10.7 MB)\n",
      "                                              0.0/10.7 MB ? eta -:--:--\n",
      "     --                                       0.8/10.7 MB 24.8 MB/s eta 0:00:01\n",
      "     -------                                  2.1/10.7 MB 22.1 MB/s eta 0:00:01\n",
      "     -----------                              3.0/10.7 MB 23.8 MB/s eta 0:00:01\n",
      "     --------------                           4.0/10.7 MB 23.5 MB/s eta 0:00:01\n",
      "     ------------------                       4.9/10.7 MB 22.6 MB/s eta 0:00:01\n",
      "     ---------------------                    5.8/10.7 MB 21.7 MB/s eta 0:00:01\n",
      "     ------------------------                 6.5/10.7 MB 20.8 MB/s eta 0:00:01\n",
      "     --------------------------               7.2/10.7 MB 20.0 MB/s eta 0:00:01\n",
      "     -----------------------------            7.9/10.7 MB 19.5 MB/s eta 0:00:01\n",
      "     --------------------------------         8.7/10.7 MB 19.3 MB/s eta 0:00:01\n",
      "     -----------------------------------      9.6/10.7 MB 19.2 MB/s eta 0:00:01\n",
      "     --------------------------------------  10.6/10.7 MB 19.3 MB/s eta 0:00:01\n",
      "     --------------------------------------  10.7/10.7 MB 19.3 MB/s eta 0:00:01\n",
      "     --------------------------------------  10.7/10.7 MB 19.3 MB/s eta 0:00:01\n",
      "     --------------------------------------- 10.7/10.7 MB 16.0 MB/s eta 0:00:00\n",
      "Requirement already satisfied: python-dateutil>=2.8.2 in c:\\users\\robso\\appdata\\local\\packages\\pythonsoftwarefoundation.python.3.9_qbz5n2kfra8p0\\localcache\\local-packages\\python39\\site-packages (from pandas) (2.8.2)\n",
      "Collecting pytz>=2020.1 (from pandas)\n",
      "  Using cached pytz-2023.3-py2.py3-none-any.whl (502 kB)\n",
      "Collecting tzdata>=2022.1 (from pandas)\n",
      "  Using cached tzdata-2023.3-py2.py3-none-any.whl (341 kB)\n",
      "Collecting numpy>=1.20.3 (from pandas)\n",
      "  Downloading numpy-1.24.3-cp39-cp39-win_amd64.whl (14.9 MB)\n",
      "                                              0.0/14.9 MB ? eta -:--:--\n",
      "     -                                        0.7/14.9 MB 14.6 MB/s eta 0:00:01\n",
      "     ----                                     1.6/14.9 MB 16.7 MB/s eta 0:00:01\n",
      "     -----                                    2.2/14.9 MB 15.5 MB/s eta 0:00:01\n",
      "     -------                                  2.8/14.9 MB 14.7 MB/s eta 0:00:01\n",
      "     ---------                                3.5/14.9 MB 15.0 MB/s eta 0:00:01\n",
      "     ------------                             4.5/14.9 MB 15.9 MB/s eta 0:00:01\n",
      "     --------------                           5.4/14.9 MB 16.4 MB/s eta 0:00:01\n",
      "     ---------------                          5.9/14.9 MB 15.6 MB/s eta 0:00:01\n",
      "     -----------------                        6.7/14.9 MB 15.8 MB/s eta 0:00:01\n",
      "     --------------------                     7.5/14.9 MB 16.0 MB/s eta 0:00:01\n",
      "     ---------------------                    8.2/14.9 MB 15.8 MB/s eta 0:00:01\n",
      "     -----------------------                  8.6/14.9 MB 15.8 MB/s eta 0:00:01\n",
      "     ------------------------                 9.0/14.9 MB 14.8 MB/s eta 0:00:01\n",
      "     -------------------------                9.4/14.9 MB 14.4 MB/s eta 0:00:01\n",
      "     -------------------------                9.4/14.9 MB 14.4 MB/s eta 0:00:01\n",
      "     -------------------------                9.4/14.9 MB 14.4 MB/s eta 0:00:01\n",
      "     -------------------------                9.4/14.9 MB 14.4 MB/s eta 0:00:01\n",
      "     -------------------------                9.4/14.9 MB 14.4 MB/s eta 0:00:01\n",
      "     -------------------------                9.4/14.9 MB 14.4 MB/s eta 0:00:01\n",
      "     -------------------------                9.4/14.9 MB 14.4 MB/s eta 0:00:01\n",
      "     -------------------------                9.4/14.9 MB 14.4 MB/s eta 0:00:01\n",
      "     -------------------------                9.4/14.9 MB 14.4 MB/s eta 0:00:01\n",
      "     --------------------------               9.7/14.9 MB 9.0 MB/s eta 0:00:01\n",
      "     ---------------------------              10.2/14.9 MB 9.0 MB/s eta 0:00:01\n",
      "     ----------------------------             10.6/14.9 MB 9.0 MB/s eta 0:00:01\n",
      "     -----------------------------            10.9/14.9 MB 8.7 MB/s eta 0:00:01\n",
      "     -----------------------------            11.1/14.9 MB 8.5 MB/s eta 0:00:01\n",
      "     -------------------------------          11.8/14.9 MB 8.4 MB/s eta 0:00:01\n",
      "     ---------------------------------        12.4/14.9 MB 8.4 MB/s eta 0:00:01\n",
      "     ----------------------------------       12.9/14.9 MB 8.3 MB/s eta 0:00:01\n",
      "     -----------------------------------      13.1/14.9 MB 8.2 MB/s eta 0:00:01\n",
      "     ------------------------------------     13.6/14.9 MB 8.1 MB/s eta 0:00:01\n",
      "     --------------------------------------   14.2/14.9 MB 8.0 MB/s eta 0:00:01\n",
      "     ---------------------------------------  14.9/14.9 MB 8.0 MB/s eta 0:00:01\n",
      "     ---------------------------------------  14.9/14.9 MB 8.0 MB/s eta 0:00:01\n",
      "     ---------------------------------------  14.9/14.9 MB 8.0 MB/s eta 0:00:01\n",
      "     ---------------------------------------  14.9/14.9 MB 8.0 MB/s eta 0:00:01\n",
      "     ---------------------------------------  14.9/14.9 MB 8.0 MB/s eta 0:00:01\n",
      "     ---------------------------------------- 14.9/14.9 MB 6.8 MB/s eta 0:00:00\n",
      "Requirement already satisfied: six>=1.5 in c:\\users\\robso\\appdata\\local\\packages\\pythonsoftwarefoundation.python.3.9_qbz5n2kfra8p0\\localcache\\local-packages\\python39\\site-packages (from python-dateutil>=2.8.2->pandas) (1.16.0)\n",
      "Installing collected packages: pytz, tzdata, numpy, pandas\n",
      "Successfully installed numpy-1.24.3 pandas-2.0.2 pytz-2023.3 tzdata-2023.3\n",
      "Note: you may need to restart the kernel to use updated packages.\n"
     ]
    }
   ],
   "source": [
    "pip install pandas"
   ]
  }
 ],
 "metadata": {
  "kernelspec": {
   "display_name": "Python 3.10.6 64-bit",
   "language": "python",
   "name": "python3"
  },
  "language_info": {
   "codemirror_mode": {
    "name": "ipython",
    "version": 3
   },
   "file_extension": ".py",
   "mimetype": "text/x-python",
   "name": "python",
   "nbconvert_exporter": "python",
   "pygments_lexer": "ipython3",
   "version": "3.9.13"
  },
  "orig_nbformat": 4,
  "vscode": {
   "interpreter": {
    "hash": "8fee86138af1eb0db027abd7ae9811a7a68978550fae5e6e8a2fd892a05f89b8"
   }
  }
 },
 "nbformat": 4,
 "nbformat_minor": 2
}
