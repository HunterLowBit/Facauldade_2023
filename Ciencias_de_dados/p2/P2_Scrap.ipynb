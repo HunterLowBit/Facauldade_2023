{
 "cells": [
  {
   "attachments": {},
   "cell_type": "markdown",
   "metadata": {},
   "source": [
    "# Primeiro Passo: Importar Bibliotecas\n",
    "+ Soup\n",
    "+ Pandas\n",
    "+ requests\n",
    "\n",
    "Scrap de site de Meteorologia\n"
   ]
  },
  {
   "cell_type": "code",
   "execution_count": null,
   "metadata": {
    "vscode": {
     "languageId": "plaintext"
    }
   },
   "outputs": [],
   "source": [
    "import pandas as pd\n",
    "import bs4\n",
    "from bs4 import BeautifulSoup\n",
    "import requests"
   ]
  },
  {
   "attachments": {},
   "cell_type": "markdown",
   "metadata": {},
   "source": [
    "# Header do navegador para evitar erros \n",
    "+ Necessário para raspagem de dados"
   ]
  },
  {
   "cell_type": "code",
   "execution_count": null,
   "metadata": {
    "vscode": {
     "languageId": "plaintext"
    }
   },
   "outputs": [],
   "source": [
    "headers = {'User-Agent': 'Mozilla/5.0 (Windows NT 10.0; Win64; x64) AppleWebKit/537.36 (KHTML, like Gecko) Chrome/110.0.0.0 Safari/537.36'}"
   ]
  },
  {
   "attachments": {},
   "cell_type": "markdown",
   "metadata": {},
   "source": [
    "# Definição de Variaveis a serem obtidas\n",
    "+ https://portal.inmet.gov.br/ +Dados por Script, Difícil Raspagem+\n",
    "+ https://weather.com +Vale a pena este, bastante opções para busca de facila acesso+"
   ]
  },
  {
   "attachments": {},
   "cell_type": "markdown",
   "metadata": {},
   "source": [
    "# Dados do Dia Atual (Modelo)\n",
    "+ Dia Atual seg. 01/01/01 (GOOGLE)\n",
    "+ Sensação Térmica 22°\n",
    "+ Temperatura Min. 20°\n",
    "+ Temperatura Manhã 21°\n",
    "+ Temperatura Tarde 23°\n",
    "+ Temperatura Noite 20°\n",
    "+ Chance de Chuva 2%\n",
    "+ Umidade 70%\n",
    "+ Visibilidade 8 KM\n",
    "+ Vento 3 KM/H\n",
    "+ Fase da Lua Minguante\n",
    "+ Nascer do Sol 05:00\n",
    "+ Por do Sol 17:00 "
   ]
  },
  {
   "attachments": {},
   "cell_type": "markdown",
   "metadata": {},
   "source": [
    "# Dados dos Próximos 10 Dias (Modelo)\n",
    "+ Dia Ter. 01\n",
    "+ Temperatura Min 20°\n",
    "+ Temperatura Max 25°\n",
    "+ Chance de Chuva 1%\n",
    "+ Vento 2 KM/H\n",
    "+ Umidade Dia 80%\n",
    "+ Umidade Noite 75%\n",
    "+ Fase da Lua Minguante\n",
    "+ Nascer do Sol 05:10\n",
    "+ Por do Sol 17:10 "
   ]
  },
  {
   "cell_type": "code",
   "execution_count": null,
   "metadata": {
    "vscode": {
     "languageId": "plaintext"
    }
   },
   "outputs": [],
   "source": []
  }
 ],
 "metadata": {
  "kernelspec": {
   "display_name": "Python 3.10.6 64-bit",
   "language": "python",
   "name": "python3"
  },
  "language_info": {
   "codemirror_mode": {
    "name": "ipython",
    "version": 3
   },
   "file_extension": ".py",
   "mimetype": "text/x-python",
   "name": "python",
   "nbconvert_exporter": "python",
   "pygments_lexer": "ipython3",
   "version": "3.10.11"
  },
  "orig_nbformat": 4,
  "vscode": {
   "interpreter": {
    "hash": "8fee86138af1eb0db027abd7ae9811a7a68978550fae5e6e8a2fd892a05f89b8"
   }
  }
 },
 "nbformat": 4,
 "nbformat_minor": 2
}
