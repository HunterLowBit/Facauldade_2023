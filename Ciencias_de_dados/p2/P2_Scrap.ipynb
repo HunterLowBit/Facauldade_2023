{
 "cells": [
  {
   "attachments": {},
   "cell_type": "markdown",
   "metadata": {},
   "source": [
    "# Primeiro Passo: Importar Bibliotecas\n",
    "+ Soup\n",
    "+ Pandas\n",
    "+ requests\n",
    "\n",
    "Scrap de site de Meteorologia\n"
   ]
  },
  {
   "cell_type": "code",
   "execution_count": 1,
   "metadata": {},
   "outputs": [],
   "source": [
    "import pandas as pd\n",
    "import bs4\n",
    "from bs4 import BeautifulSoup\n",
    "import requests"
   ]
  },
  {
   "attachments": {},
   "cell_type": "markdown",
   "metadata": {},
   "source": [
    "# Header do navegador para evitar erros \n",
    "+ Necessário para raspagem de dados"
   ]
  },
  {
   "cell_type": "code",
   "execution_count": 2,
   "metadata": {},
   "outputs": [],
   "source": [
    "headers = {'User-Agent': 'Mozilla/5.0 (Windows NT 10.0; Win64; x64) AppleWebKit/537.36 (KHTML, like Gecko) Chrome/110.0.0.0 Safari/537.36'}"
   ]
  },
  {
   "attachments": {},
   "cell_type": "markdown",
   "metadata": {},
   "source": [
    "# Definição de Variaveis a serem obtidas\n",
    "+ https://portal.inmet.gov.br/ +Dados por Script, Difícil Raspagem+\n",
    "+ https://weather.com +Vale a pena este, bastante opções para busca de facila acesso+"
   ]
  },
  {
   "attachments": {},
   "cell_type": "markdown",
   "metadata": {},
   "source": [
    "# Dados do Dia Atual (Modelo)\n",
    "+ Dia Atual seg. 01/01/01 (GOOGLE)\n",
    "+ Sensação Térmica 22°\n",
    "+ Temperatura Min. 20°\n",
    "+ Temperatura Max. 24°\n",
    "+ Chance de Chuva 2%\n",
    "+ Umidade 70%\n",
    "+ Visibilidade 8 KM\n",
    "+ Vento 3 KM/H\n",
    "+ Fase da Lua Minguante\n",
    "+ Nascer do Sol 05:00\n",
    "+ Por do Sol 17:00 "
   ]
  },
  {
   "cell_type": "code",
   "execution_count": 3,
   "metadata": {},
   "outputs": [
    {
     "name": "stdout",
     "output_type": "stream",
     "text": [
      " quarta-feira, 14 de junho de 2023 \n"
     ]
    }
   ],
   "source": [
    "# Data de Hoje\n",
    "data_hoje = requests.get('https://www.google.com/search?q=data&rlz=1C1SQJL_pt-BRBR998BR998&sxsrf=APwXEdcupV6LQAigM1YJ-8DRy9SGmmyOjw%3A1680127416747&ei=uLUkZO6JLYPM1sQP_teriAo&ved=0ahUKEwjuxeiukoL-AhUDppUCHf7rCqEQ4dUDCBA&uact=5&oq=data&gs_lcp=Cgxnd3Mtd2l6LXNlcnAQAzIECCMQJzIECCMQJzIHCAAQigUQQzIOCC4QgAQQsQMQxwEQ0QMyDQgAEIoFELEDEIMBEEMyBwgAEIoFEEMyBQgAEIAEMgsIABCABBCxAxCDATIICAAQgAQQsQMyCwgAEIoFELEDEIMBOgoIABBHENYEELADOgoIABCKBRCwAxBDSgQIQRgAUMsFWMoNYPsSaAFwAXgAgAGDAYgBvwWSAQMwLjaYAQCgAQHIAQrAAQE&sclient=gws-wiz-serp', headers = headers)\n",
    "soup_hoje = BeautifulSoup(data_hoje.content, 'html.parser')\n",
    "data_atual = soup_hoje.find_all('div', class_=\"vk_bk dDoNo FzvWSb\")[0]\n",
    "print(data_atual.text)"
   ]
  },
  {
   "cell_type": "code",
   "execution_count": 4,
   "metadata": {},
   "outputs": [
    {
     "name": "stdout",
     "output_type": "stream",
     "text": [
      "23°\n"
     ]
    }
   ],
   "source": [
    "# Sensação Termica\n",
    "s_termica = requests.get('https://weather.com/pt-BR/clima/hoje/l/d4f77dbfe5ef5c1fe149973557e1da2e067b0cef006139961ff72fcd8b428558', headers = headers)\n",
    "soup_st = BeautifulSoup(s_termica.content, 'html.parser')\n",
    "sensacao_termica = soup_st.find_all('span', class_=\"TodayDetailsCard--feelsLikeTempValue--2icPt\")[0]\n",
    "print(sensacao_termica.text)"
   ]
  },
  {
   "cell_type": "code",
   "execution_count": 5,
   "metadata": {},
   "outputs": [
    {
     "name": "stdout",
     "output_type": "stream",
     "text": [
      "20°\n"
     ]
    }
   ],
   "source": [
    "# Temperatura Minima\n",
    "t_min = requests.get('https://weather.com/pt-BR/clima/hoje/l/d4f77dbfe5ef5c1fe149973557e1da2e067b0cef006139961ff72fcd8b428558', headers = headers)\n",
    "soup_tmin = BeautifulSoup(t_min.content, 'html.parser')\n",
    "temperatura_min = soup_tmin.find_all('div', class_=\"Column--tempLo--1uHbC\")[0]\n",
    "print(temperatura_min.text)"
   ]
  },
  {
   "cell_type": "code",
   "execution_count": 6,
   "metadata": {},
   "outputs": [
    {
     "name": "stdout",
     "output_type": "stream",
     "text": [
      "24°\n"
     ]
    }
   ],
   "source": [
    "# Temperatura Maxima\n",
    "t_max = requests.get('https://weather.com/pt-BR/clima/hoje/l/d4f77dbfe5ef5c1fe149973557e1da2e067b0cef006139961ff72fcd8b428558', headers = headers)\n",
    "soup_tmax = BeautifulSoup(t_max.content, 'html.parser')\n",
    "temperatura_max = soup_tmax.find_all('div', class_=\"Column--temp--1sO_J\")[0]\n",
    "print(temperatura_max.text)"
   ]
  },
  {
   "cell_type": "code",
   "execution_count": 7,
   "metadata": {},
   "outputs": [
    {
     "name": "stdout",
     "output_type": "stream",
     "text": [
      "14%\n"
     ]
    }
   ],
   "source": [
    "# Chance de Chuva\n",
    "chuva = requests.get('https://weather.com/pt-BR/clima/10dias/l/2296b14bb55ab7fda4172b63b445eface32c94e1ab83bbb1169e2e126845a390', headers = headers)\n",
    "soup_chuva = BeautifulSoup(chuva.content, 'html.parser')\n",
    "c_chuva = soup_chuva.find_all('span', class_=\"DailyContent--value--1Jers\")[0]\n",
    "print(c_chuva.text)"
   ]
  },
  {
   "cell_type": "code",
   "execution_count": 8,
   "metadata": {},
   "outputs": [
    {
     "name": "stdout",
     "output_type": "stream",
     "text": [
      "82%\n"
     ]
    }
   ],
   "source": [
    "# Umidade\n",
    "umidade = requests.get('https://weather.com/pt-BR/clima/10dias/l/2296b14bb55ab7fda4172b63b445eface32c94e1ab83bbb1169e2e126845a390', headers = headers)\n",
    "soup_umidade = BeautifulSoup(umidade.content, 'html.parser')\n",
    "umidade_ar = soup_umidade.find_all('span', class_=\"DetailsTable--value--2YD0-\")[0]\n",
    "print(umidade_ar.text)"
   ]
  },
  {
   "cell_type": "code",
   "execution_count": 9,
   "metadata": {},
   "outputs": [
    {
     "name": "stdout",
     "output_type": "stream",
     "text": [
      "6 KM/H\n"
     ]
    }
   ],
   "source": [
    "# Visibilidade\n",
    "visibilidade = requests.get('https://weather.com/pt-BR/clima/hoje/l/d4f77dbfe5ef5c1fe149973557e1da2e067b0cef006139961ff72fcd8b428558', headers = headers)\n",
    "soup_visibilidade = BeautifulSoup(visibilidade.content, 'html.parser')\n",
    "d_visibilidade = soup_visibilidade.find_all('div', class_=\"WeatherDetailsListItem--wxData--kK35q\")[1]\n",
    "# Separação, Seleção de valor e acrescentando \"KM/H\"\n",
    "distancia_visibilidade = d_visibilidade.text[14] + \" KM/H\"\n",
    "print(distancia_visibilidade)"
   ]
  },
  {
   "cell_type": "code",
   "execution_count": 14,
   "metadata": {},
   "outputs": [
    {
     "name": "stdout",
     "output_type": "stream",
     "text": [
      "Lua minguante\n"
     ]
    }
   ],
   "source": [
    "# Fase da Lua\n",
    "f_lua = requests.get('https://weather.com/pt-BR/clima/hoje/l/d4f77dbfe5ef5c1fe149973557e1da2e067b0cef006139961ff72fcd8b428558', headers = headers)\n",
    "soup_lua = BeautifulSoup(f_lua.content, 'html.parser')\n",
    "fase_lua = soup_lua.find_all('div', class_=\"WeatherDetailsListItem--wxData--kK35q\")[7]\n",
    "print(fase_lua.text)"
   ]
  },
  {
   "cell_type": "code",
   "execution_count": 25,
   "metadata": {},
   "outputs": [
    {
     "name": "stdout",
     "output_type": "stream",
     "text": [
      "6:29\n"
     ]
    }
   ],
   "source": [
    "# Nascer do Sol\n",
    "nascer_s = requests.get('https://weather.com/pt-BR/clima/hoje/l/d4f77dbfe5ef5c1fe149973557e1da2e067b0cef006139961ff72fcd8b428558', headers = headers)\n",
    "soup_n_sol = BeautifulSoup(nascer_s.content, 'html.parser')\n",
    "nascer_sol = soup_n_sol.find_all('div', class_=\"SunriseSunset--sunriseDateItem--H9yAh\")[0]\n",
    "n_sol = nascer_sol.text[8]+nascer_sol.text[9]+nascer_sol.text[10]+nascer_sol.text[11]\n",
    "print(n_sol)"
   ]
  },
  {
   "cell_type": "code",
   "execution_count": 29,
   "metadata": {},
   "outputs": [
    {
     "name": "stdout",
     "output_type": "stream",
     "text": [
      "17:13\n"
     ]
    }
   ],
   "source": [
    "# Por do Sol\n",
    "nascer_s = requests.get('https://weather.com/pt-BR/clima/hoje/l/d4f77dbfe5ef5c1fe149973557e1da2e067b0cef006139961ff72fcd8b428558', headers = headers)\n",
    "soup_n_sol = BeautifulSoup(nascer_s.content, 'html.parser')\n",
    "nascer_sol = soup_n_sol.find_all('div', class_=\"SunriseSunset--sunriseDateItem--H9yAh\")[1]\n",
    "n_sol = nascer_sol.text[6]+nascer_sol.text[7]+nascer_sol.text[8]+nascer_sol.text[9]+nascer_sol.text[10]\n",
    "print(n_sol)"
   ]
  },
  {
   "attachments": {},
   "cell_type": "markdown",
   "metadata": {},
   "source": [
    "# Dados dos Próximos 10 Dias (Modelo)\n",
    "+ Dia Ter. 01\n",
    "+ Temperatura Min 20°\n",
    "+ Temperatura Max 25°\n",
    "+ Chance de Chuva 1%\n",
    "+ Vento 2 KM/H\n",
    "+ Umidade Dia 80%\n",
    "+ Umidade Noite 75%\n",
    "+ Fase da Lua Minguante\n",
    "+ Nascer do Sol 05:10\n",
    "+ Por do Sol 17:10 "
   ]
  },
  {
   "cell_type": "code",
   "execution_count": null,
   "metadata": {},
   "outputs": [],
   "source": []
  }
 ],
 "metadata": {
  "kernelspec": {
   "display_name": "Python 3.10.6 64-bit",
   "language": "python",
   "name": "python3"
  },
  "language_info": {
   "codemirror_mode": {
    "name": "ipython",
    "version": 3
   },
   "file_extension": ".py",
   "mimetype": "text/x-python",
   "name": "python",
   "nbconvert_exporter": "python",
   "pygments_lexer": "ipython3",
   "version": "3.9.13"
  },
  "orig_nbformat": 4,
  "vscode": {
   "interpreter": {
    "hash": "8fee86138af1eb0db027abd7ae9811a7a68978550fae5e6e8a2fd892a05f89b8"
   }
  }
 },
 "nbformat": 4,
 "nbformat_minor": 2
}
